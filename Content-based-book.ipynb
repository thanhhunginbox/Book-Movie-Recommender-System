{
  "cells": [
    {
      "cell_type": "markdown",
      "metadata": {
        "id": "Yh3rVT7oBfqx"
      },
      "source": [
        "- Họ tên SV: Trần Thạnh Hưng\n",
        "- MSSV: 19521586\n",
        "- Yêu cầu: hoàn thành các phần code thiếu: #code here"
      ]
    },
    {
      "cell_type": "code",
      "execution_count": 5,
      "metadata": {
        "id": "gvnqCGSox4Io"
      },
      "outputs": [],
      "source": [
        "#importing necessary libraries\n",
        "import numpy as np\n",
        "import pandas as pd\n",
        "# thêm thư viện TfidfVectorizer\n",
        "from sklearn.feature_extraction.text import TfidfVectorizer\n",
        "#thêm thư viện linear_kernel\n",
        "from sklearn.metrics.pairwise import linear_kernel"
      ]
    },
    {
      "cell_type": "code",
      "execution_count": 6,
      "metadata": {
        "id": "EFsWP1y43FOa"
      },
      "outputs": [
        {
          "name": "stderr",
          "output_type": "stream",
          "text": [
            "C:\\Users\\Hung\\AppData\\Local\\Temp\\ipykernel_5892\\2704397234.py:3: DtypeWarning: Columns (10) have mixed types. Specify dtype option on import or set low_memory=False.\n",
            "  movies = pd.read_csv(r'data/movies_metadata.csv')\n"
          ]
        }
      ],
      "source": [
        "#Load dữ liệu movies_metadata.csv\n",
        "#code here\n",
        "movies = pd.read_csv(r'data/movies_metadata.csv')\n"
      ]
    },
    {
      "cell_type": "code",
      "execution_count": 7,
      "metadata": {
        "id": "SRazSGTd3FQa"
      },
      "outputs": [
        {
          "data": {
            "text/plain": [
              "0    Led by Woody, Andy's toys live happily in his ...\n",
              "1    When siblings Judy and Peter discover an encha...\n",
              "2    A family wedding reignites the ancient feud be...\n",
              "3    Cheated on, mistreated and stepped on, the wom...\n",
              "4    Just when George Banks has recovered from his ...\n",
              "Name: overview, dtype: object"
            ]
          },
          "execution_count": 7,
          "metadata": {},
          "output_type": "execute_result"
        }
      ],
      "source": [
        "#xuất ra overview của 5 bộ phim đầu tiên\n",
        "#code here\n",
        "movies['overview'].head()"
      ]
    },
    {
      "cell_type": "code",
      "execution_count": 8,
      "metadata": {
        "id": "FUIHAQyP3FRy"
      },
      "outputs": [
        {
          "name": "stderr",
          "output_type": "stream",
          "text": [
            "C:\\Users\\Hung\\AppData\\Local\\Temp\\ipykernel_5892\\3536508731.py:5: FutureWarning: The default value of regex will change from True to False in a future version.\n",
            "  movies['overview']=movies['overview'].replace(r'\\W+', ' ', regex=True).str.replace('[^\\w\\s]','')\n"
          ]
        }
      ],
      "source": [
        "# viết hàm tiền xử lý dữ liệu trên cột overview\n",
        "#  - chuyển về từ thường\n",
        "movies['overview'] = movies['overview'].str.lower()\n",
        "#  - Xóa dấu câu, ký tự đặc biệt\n",
        "movies['overview']=movies['overview'].replace(r'\\W+', ' ', regex=True).str.replace('[^\\w\\s]','')\n",
        "#  - xóa stopword\n",
        "#  - tách từ\n",
        "tf = TfidfVectorizer(analyzer='word', stop_words='english')"
      ]
    },
    {
      "cell_type": "code",
      "execution_count": 10,
      "metadata": {
        "id": "FO12YM6JVNfB"
      },
      "outputs": [],
      "source": [
        "#sử dụng TfidfVectorizer để chuyển cột overview của các bộ phim về tf-idf và lưu vào biến overview_matrix\n",
        "overview_matrix = tf.fit_transform(movies['overview'].replace(np.nan , ''))"
      ]
    },
    {
      "cell_type": "code",
      "execution_count": 11,
      "metadata": {
        "id": "_5Ufw0dLWyhP"
      },
      "outputs": [
        {
          "data": {
            "text/plain": [
              "(45466, 75827)"
            ]
          },
          "execution_count": 11,
          "metadata": {},
          "output_type": "execute_result"
        }
      ],
      "source": [
        "overview_matrix.shape"
      ]
    },
    {
      "cell_type": "code",
      "execution_count": 12,
      "metadata": {
        "id": "wGUavQ3y3FTB"
      },
      "outputs": [],
      "source": [
        "# tính toán cosine giữa các bộ phim với nhau bằng linear_kernel\n",
        "cosine = linear_kernel(overview_matrix[0:30000], overview_matrix[0:30000])"
      ]
    },
    {
      "cell_type": "code",
      "execution_count": 14,
      "metadata": {
        "id": "VVYEYN4ux4J8"
      },
      "outputs": [],
      "source": [
        "#đánh index cho các bộ phim bằng  pd.Series() và lưu trong biến mapping\n",
        "mapping = pd.Series(movies.index, index=movies['title'])"
      ]
    },
    {
      "cell_type": "code",
      "execution_count": 15,
      "metadata": {
        "id": "zaQUZ97nBxbJ"
      },
      "outputs": [
        {
          "data": {
            "text/plain": [
              "'Heat'"
            ]
          },
          "execution_count": 15,
          "metadata": {},
          "output_type": "execute_result"
        }
      ],
      "source": [
        "#viết hàm nhận vào index của bộ phim trả về tên của bộ phim\n",
        "def get_name_by_index(x):\n",
        "    return mapping.index[x]\n",
        "\n",
        "get_name_by_index(5)"
      ]
    },
    {
      "cell_type": "code",
      "execution_count": 40,
      "metadata": {
        "id": "xYDehga0x4Lh"
      },
      "outputs": [],
      "source": [
        "#viết hàm trả và top 10 bộ phim sẽ đem đi khuyến nghị cho người dùng U. Người dung U đã xem bộ phim có tên là \"Father of the Bride Part II\"\n",
        "#code here\n",
        "def get_recommendations(title, cosine_sim = cosine):\n",
        "    index = mapping[title]\n",
        "    scores = sorted(list(enumerate(cosine_sim[index])), key=lambda x: x[1], reverse=True)[0:11]\n",
        "    return [get_name_by_index( int(i[0])) for i in scores]"
      ]
    },
    {
      "cell_type": "code",
      "execution_count": 41,
      "metadata": {},
      "outputs": [
        {
          "data": {
            "text/plain": [
              "['Father of the Bride Part II',\n",
              " 'Father of the Bride',\n",
              " 'Kuffs',\n",
              " 'North to Alaska',\n",
              " 'Babbitt',\n",
              " 'The Magic of Méliès',\n",
              " 'Wendigo',\n",
              " 'I Start Counting',\n",
              " 'The Out of Towners',\n",
              " \"It's a Wonderful Life\",\n",
              " 'Funny People']"
            ]
          },
          "execution_count": 41,
          "metadata": {},
          "output_type": "execute_result"
        }
      ],
      "source": [
        "get_recommendations('Father of the Bride Part II')"
      ]
    },
    {
      "cell_type": "code",
      "execution_count": null,
      "metadata": {},
      "outputs": [],
      "source": []
    }
  ],
  "metadata": {
    "colab": {
      "collapsed_sections": [],
      "machine_shape": "hm",
      "provenance": []
    },
    "kernelspec": {
      "display_name": "Python 3.10.5 64-bit",
      "language": "python",
      "name": "python3"
    },
    "language_info": {
      "codemirror_mode": {
        "name": "ipython",
        "version": 3
      },
      "file_extension": ".py",
      "mimetype": "text/x-python",
      "name": "python",
      "nbconvert_exporter": "python",
      "pygments_lexer": "ipython3",
      "version": "3.10.5"
    },
    "vscode": {
      "interpreter": {
        "hash": "3e43744e3b76db76f00dd0f0ed56f0dc3589e390f52dff4d27386062904acf7d"
      }
    }
  },
  "nbformat": 4,
  "nbformat_minor": 0
}
