{
 "cells": [
  {
   "cell_type": "markdown",
   "metadata": {},
   "source": [
    "<h1>User-User</h1>"
   ]
  },
  {
   "cell_type": "markdown",
   "metadata": {},
   "source": [
    "<h1>Khuyến nghị 10 bộ phim cho UserID = 20</h1>"
   ]
  },
  {
   "cell_type": "code",
   "execution_count": 2,
   "metadata": {},
   "outputs": [],
   "source": [
    "import pandas as pd\n",
    "import numpy as np\n",
    "from numpy.linalg import norm\n",
    "from math import sqrt"
   ]
  },
  {
   "cell_type": "code",
   "execution_count": 3,
   "metadata": {},
   "outputs": [],
   "source": [
    "movies = pd.read_csv(r\"data\\movie\\movies.csv\").head(1000)\n",
    "ratings = pd.read_csv(r\"data\\movie\\ratings.csv\").head(3000)"
   ]
  },
  {
   "cell_type": "code",
   "execution_count": 4,
   "metadata": {},
   "outputs": [
    {
     "data": {
      "text/html": [
       "<div>\n",
       "<style scoped>\n",
       "    .dataframe tbody tr th:only-of-type {\n",
       "        vertical-align: middle;\n",
       "    }\n",
       "\n",
       "    .dataframe tbody tr th {\n",
       "        vertical-align: top;\n",
       "    }\n",
       "\n",
       "    .dataframe thead th {\n",
       "        text-align: right;\n",
       "    }\n",
       "</style>\n",
       "<table border=\"1\" class=\"dataframe\">\n",
       "  <thead>\n",
       "    <tr style=\"text-align: right;\">\n",
       "      <th></th>\n",
       "      <th>movieId</th>\n",
       "      <th>title</th>\n",
       "      <th>genres</th>\n",
       "    </tr>\n",
       "  </thead>\n",
       "  <tbody>\n",
       "    <tr>\n",
       "      <th>0</th>\n",
       "      <td>1</td>\n",
       "      <td>Toy Story (1995)</td>\n",
       "      <td>Adventure|Animation|Children|Comedy|Fantasy</td>\n",
       "    </tr>\n",
       "    <tr>\n",
       "      <th>1</th>\n",
       "      <td>2</td>\n",
       "      <td>Jumanji (1995)</td>\n",
       "      <td>Adventure|Children|Fantasy</td>\n",
       "    </tr>\n",
       "    <tr>\n",
       "      <th>2</th>\n",
       "      <td>3</td>\n",
       "      <td>Grumpier Old Men (1995)</td>\n",
       "      <td>Comedy|Romance</td>\n",
       "    </tr>\n",
       "    <tr>\n",
       "      <th>3</th>\n",
       "      <td>4</td>\n",
       "      <td>Waiting to Exhale (1995)</td>\n",
       "      <td>Comedy|Drama|Romance</td>\n",
       "    </tr>\n",
       "    <tr>\n",
       "      <th>4</th>\n",
       "      <td>5</td>\n",
       "      <td>Father of the Bride Part II (1995)</td>\n",
       "      <td>Comedy</td>\n",
       "    </tr>\n",
       "  </tbody>\n",
       "</table>\n",
       "</div>"
      ],
      "text/plain": [
       "   movieId                               title  \\\n",
       "0        1                    Toy Story (1995)   \n",
       "1        2                      Jumanji (1995)   \n",
       "2        3             Grumpier Old Men (1995)   \n",
       "3        4            Waiting to Exhale (1995)   \n",
       "4        5  Father of the Bride Part II (1995)   \n",
       "\n",
       "                                        genres  \n",
       "0  Adventure|Animation|Children|Comedy|Fantasy  \n",
       "1                   Adventure|Children|Fantasy  \n",
       "2                               Comedy|Romance  \n",
       "3                         Comedy|Drama|Romance  \n",
       "4                                       Comedy  "
      ]
     },
     "execution_count": 4,
     "metadata": {},
     "output_type": "execute_result"
    }
   ],
   "source": [
    "movies.head()"
   ]
  },
  {
   "cell_type": "code",
   "execution_count": 5,
   "metadata": {},
   "outputs": [
    {
     "data": {
      "text/html": [
       "<div>\n",
       "<style scoped>\n",
       "    .dataframe tbody tr th:only-of-type {\n",
       "        vertical-align: middle;\n",
       "    }\n",
       "\n",
       "    .dataframe tbody tr th {\n",
       "        vertical-align: top;\n",
       "    }\n",
       "\n",
       "    .dataframe thead th {\n",
       "        text-align: right;\n",
       "    }\n",
       "</style>\n",
       "<table border=\"1\" class=\"dataframe\">\n",
       "  <thead>\n",
       "    <tr style=\"text-align: right;\">\n",
       "      <th></th>\n",
       "      <th>userId</th>\n",
       "      <th>movieId</th>\n",
       "      <th>rating</th>\n",
       "      <th>timestamp</th>\n",
       "    </tr>\n",
       "  </thead>\n",
       "  <tbody>\n",
       "    <tr>\n",
       "      <th>0</th>\n",
       "      <td>1</td>\n",
       "      <td>1</td>\n",
       "      <td>4.0</td>\n",
       "      <td>964982703</td>\n",
       "    </tr>\n",
       "    <tr>\n",
       "      <th>1</th>\n",
       "      <td>1</td>\n",
       "      <td>3</td>\n",
       "      <td>4.0</td>\n",
       "      <td>964981247</td>\n",
       "    </tr>\n",
       "    <tr>\n",
       "      <th>2</th>\n",
       "      <td>1</td>\n",
       "      <td>6</td>\n",
       "      <td>4.0</td>\n",
       "      <td>964982224</td>\n",
       "    </tr>\n",
       "    <tr>\n",
       "      <th>3</th>\n",
       "      <td>1</td>\n",
       "      <td>47</td>\n",
       "      <td>5.0</td>\n",
       "      <td>964983815</td>\n",
       "    </tr>\n",
       "    <tr>\n",
       "      <th>4</th>\n",
       "      <td>1</td>\n",
       "      <td>50</td>\n",
       "      <td>5.0</td>\n",
       "      <td>964982931</td>\n",
       "    </tr>\n",
       "  </tbody>\n",
       "</table>\n",
       "</div>"
      ],
      "text/plain": [
       "   userId  movieId  rating  timestamp\n",
       "0       1        1     4.0  964982703\n",
       "1       1        3     4.0  964981247\n",
       "2       1        6     4.0  964982224\n",
       "3       1       47     5.0  964983815\n",
       "4       1       50     5.0  964982931"
      ]
     },
     "execution_count": 5,
     "metadata": {},
     "output_type": "execute_result"
    }
   ],
   "source": [
    "ratings.head()"
   ]
  },
  {
   "cell_type": "code",
   "execution_count": 6,
   "metadata": {},
   "outputs": [],
   "source": [
    "def get_rating(userId, movieId):\n",
    "    # Lấy rating của user cho 1 bộ phim\n",
    "    try:\n",
    "        return ratings.loc[(ratings.userId == userId) & (ratings.movieId == movieId), 'rating'].iloc[0]\n",
    "    except:\n",
    "        return 0"
   ]
  },
  {
   "cell_type": "code",
   "execution_count": 7,
   "metadata": {},
   "outputs": [
    {
     "data": {
      "text/plain": [
       "4.0"
      ]
     },
     "execution_count": 7,
     "metadata": {},
     "output_type": "execute_result"
    }
   ],
   "source": [
    "get_rating(1, 1)"
   ]
  },
  {
   "cell_type": "code",
   "execution_count": 8,
   "metadata": {},
   "outputs": [],
   "source": [
    "def consine(a: list, b: list):\n",
    "    if a == [] or b == []:\n",
    "        return 0\n",
    "    # Tính consine của 2 vectors\n",
    "    if a == b:\n",
    "        return 1\n",
    "    if norm(a)*norm(b) == 0:\n",
    "        return 0\n",
    "    return np.dot(a,b)/(norm(a)*norm(b))\n"
   ]
  },
  {
   "cell_type": "code",
   "execution_count": 9,
   "metadata": {},
   "outputs": [],
   "source": [
    "def pearson(x: list, y: list):\n",
    "    # Tính pearson của 2 vectors\n",
    "    if x == [] or y == []:\n",
    "        return 0\n",
    "    if x == y:\n",
    "        return 1\n",
    "    avg_x = sum(x)/len(x)\n",
    "    avg_y = sum(y)/len(y)\n",
    "\n",
    "    err_x = [i - avg_x for i in x]\n",
    "    err_y = [i - avg_y for i in y]\n",
    "\n",
    "    a = sum([i*j for i, j in zip(err_x, err_y)])\n",
    "    b1 = sum([i*i for i in err_x])\n",
    "    b2 = sum([j*j for j in err_y])\n",
    "\n",
    "    if (sqrt(b1)*sqrt(b2)) == 0:\n",
    "        return 0\n",
    "\n",
    "    return a/(sqrt(b1)*sqrt(b2))"
   ]
  },
  {
   "cell_type": "code",
   "execution_count": 10,
   "metadata": {},
   "outputs": [],
   "source": [
    "def mutual_movies(userId1, userId2):\n",
    "    # Tìm danh sách phim xem chung của 2 user\n",
    "    list_1 = list(ratings.loc[ratings.userId == userId1, 'movieId'])\n",
    "    list_2 = list(ratings.loc[ratings.userId == userId2, 'movieId'])\n",
    "    return [i for i in list_1 if i in list_2]"
   ]
  },
  {
   "cell_type": "code",
   "execution_count": 11,
   "metadata": {},
   "outputs": [],
   "source": [
    "def  userId_watched(movieId):\n",
    "    # Tìm danh sách các user đã xem 1 bộ phim\n",
    "    return ratings.loc[ratings.movieId == movieId, 'userId'].to_list()"
   ]
  },
  {
   "cell_type": "code",
   "execution_count": 12,
   "metadata": {},
   "outputs": [],
   "source": [
    "def similaraty_score(userId1, userId2, measure: str):\n",
    "    # Tính độ tương tự của 2 user theo consine hoặc pearson\n",
    "    mutual_list = mutual_movies(userId1, userId2)\n",
    "    if len(mutual_list) == 0:\n",
    "        return 0\n",
    "    vector_1 = [get_rating(userId1, m) for m in mutual_list]\n",
    "    vector_2 = [get_rating(userId2, m) for m in mutual_list]\n",
    "    if measure == 'consine':\n",
    "        return consine(vector_1, vector_2)\n",
    "    elif measure == 'pearson':\n",
    "        return pearson(vector_1, vector_2)"
   ]
  },
  {
   "cell_type": "code",
   "execution_count": 13,
   "metadata": {},
   "outputs": [],
   "source": [
    "def similar_user_list(userId: int, userId_list: list, measure: str):\n",
    "    # Danh sách độ tương tự của userId với các user khác\n",
    "    similaraty_score_list = sorted([(i ,similaraty_score(userId, i, measure)) for i in userId_list if i != 1],key = lambda x: x[1], reverse=True)\n",
    "    return similaraty_score_list"
   ]
  },
  {
   "cell_type": "code",
   "execution_count": 14,
   "metadata": {},
   "outputs": [],
   "source": [
    "def get_recomendation(userId, movieId, k, measure: str):\n",
    "    sim_user_list = similar_user_list(userId, userId_watched(movieId), measure)[0:k]\n",
    "    # Tính rating theo phương pháp đánh giá có trọng số\n",
    "    tu = sum([ sim*get_rating(userId, movieId) for userId, sim in sim_user_list])\n",
    "    if tu == 0:\n",
    "        return 0\n",
    "    mau = sum([sim for userId, sim in sim_user_list])\n",
    "    return tu/mau"
   ]
  },
  {
   "cell_type": "code",
   "execution_count": 15,
   "metadata": {},
   "outputs": [],
   "source": [
    "def get_not_watched_list(userId):\n",
    "    return set(movies['movieId']).difference(set(ratings.loc[ratings.userId == userId, 'movieId']))"
   ]
  },
  {
   "cell_type": "code",
   "execution_count": 16,
   "metadata": {},
   "outputs": [],
   "source": [
    "def get_top_n_ranked_movies_list(userId, n, k, measure):\n",
    "    movies_list = get_not_watched_list(userId)\n",
    "    recommendations_list = sorted([ ( m ,get_recomendation(userId, m, k, measure)) for m in movies_list], key=lambda x : x[1], reverse=True)\n",
    "    return recommendations_list[0:10]"
   ]
  },
  {
   "cell_type": "code",
   "execution_count": 17,
   "metadata": {},
   "outputs": [
    {
     "data": {
      "text/plain": [
       "[(5, 5.000000000000001),\n",
       " (22, 5.000000000000001),\n",
       " (86, 5.000000000000001),\n",
       " (160, 5.000000000000001),\n",
       " (168, 5.000000000000001),\n",
       " (230, 5.000000000000001),\n",
       " (248, 5.000000000000001),\n",
       " (257, 5.000000000000001),\n",
       " (277, 5.000000000000001),\n",
       " (314, 5.000000000000001)]"
      ]
     },
     "execution_count": 17,
     "metadata": {},
     "output_type": "execute_result"
    }
   ],
   "source": [
    "ranked_list = get_top_n_ranked_movies_list(20 ,10, 10,'consine')\n",
    "ranked_list"
   ]
  },
  {
   "cell_type": "code",
   "execution_count": 18,
   "metadata": {},
   "outputs": [
    {
     "name": "stdout",
     "output_type": "stream",
     "text": [
      "Top 10 bộ phim khuyến nghị cho User20:\n",
      "--------------------------------------\n",
      "5 Father of the Bride Part II (1995)\n",
      "22 Copycat (1995)\n",
      "86 White Squall (1996)\n",
      "160 Congo (1995)\n",
      "168 First Knight (1995)\n",
      "230 Dolores Claiborne (1995)\n",
      "248 Houseguest (1994)\n",
      "257 Just Cause (1995)\n",
      "277 Miracle on 34th Street (1994)\n",
      "314 Secret of Roan Inish, The (1994)\n"
     ]
    }
   ],
   "source": [
    "print('Top 10 bộ phim khuyến nghị cho User20:')\n",
    "print('--------------------------------------')\n",
    "for id, predict in ranked_list:\n",
    "    print(id, movies.loc[movies.movieId == id, 'title'].iloc[0])"
   ]
  },
  {
   "cell_type": "markdown",
   "metadata": {},
   "source": [
    "<h1>Item-Item</h1>"
   ]
  },
  {
   "cell_type": "markdown",
   "metadata": {},
   "source": [
    "<h1>Top 10 User sẽ đánh cao nhất cho MovieID = 50</h1>"
   ]
  },
  {
   "cell_type": "code",
   "execution_count": 30,
   "metadata": {},
   "outputs": [],
   "source": [
    "\n",
    "movies = pd.read_csv(r\"D:\\Documents\\Courses\\HeKhuyenNghi\\PracticalAssignment\\BTTH1_19521586\\movie\\movies.csv\")\n",
    "ratings = pd.read_csv(r\"D:\\Documents\\Courses\\HeKhuyenNghi\\PracticalAssignment\\BTTH1_19521586\\movie\\ratings.csv\").head(50000)"
   ]
  },
  {
   "cell_type": "code",
   "execution_count": 20,
   "metadata": {},
   "outputs": [],
   "source": [
    "def mutual_users(movieId1, movieId2):\n",
    "    # Tìm danh users cùng đánh giá 2 bộ phim\n",
    "    list_1 = list(ratings.loc[ratings.movieId == movieId1, 'userId'])\n",
    "    list_2 = list(ratings.loc[ratings.movieId == movieId2, 'userId'])\n",
    "    return [i for i in list_1 if i in list_2]"
   ]
  },
  {
   "cell_type": "code",
   "execution_count": 21,
   "metadata": {},
   "outputs": [],
   "source": [
    "def similaraty_score_of_2_movies(movieId1, movieId2, measure: str):\n",
    "    mutual_users_list = mutual_users(movieId1, movieId2)\n",
    "    vector_1 = [get_rating(i, movieId1) for i in mutual_users_list]\n",
    "    vector_2 = [get_rating(i, movieId2) for i in mutual_users_list]\n",
    "    if measure == 'consine':\n",
    "        return consine(vector_1, vector_2)\n",
    "    elif measure == 'pearson':\n",
    "        return pearson(vector_1, vector_2)"
   ]
  },
  {
   "cell_type": "code",
   "execution_count": 22,
   "metadata": {},
   "outputs": [],
   "source": [
    "def get_most_k_similar_movies_list(movieId: int, movieId_list: list, k: int, measure):\n",
    "    l = sorted([(i, similaraty_score_of_2_movies(i, movieId, measure)) for i in movieId_list if i != movieId], key=lambda x: x[1], reverse=True)\n",
    "    return l[0:k]"
   ]
  },
  {
   "cell_type": "code",
   "execution_count": 23,
   "metadata": {},
   "outputs": [],
   "source": [
    "def  movieId_watched(userId):\n",
    "    # Tìm danh sách các movies mà user đã xem\n",
    "    return ratings.loc[ratings.userId == userId, 'movieId'].to_list()"
   ]
  },
  {
   "cell_type": "code",
   "execution_count": 24,
   "metadata": {},
   "outputs": [],
   "source": [
    "def get_recomendation(movieId, userId, k, measure: str):\n",
    "    sim_movie_list = get_most_k_similar_movies_list(movieId, movieId_watched(userId), k, 'pearson')\n",
    "    #  Tính rating theo phương pháp đánh giá có trọng số\n",
    "    tu = sum([ sim*get_rating(userId, movie) for movie, sim in sim_movie_list])\n",
    "    if tu == 0:\n",
    "        return 0\n",
    "    mau = sum([sim for movieId, sim in sim_movie_list])\n",
    "    return tu/mau\n"
   ]
  },
  {
   "cell_type": "code",
   "execution_count": 25,
   "metadata": {},
   "outputs": [],
   "source": [
    "def get_not_rated_list(movieId):\n",
    "    # Tìm các users chưa đánh giá cho bộ phim\n",
    "    all_users = set(ratings['userId'])\n",
    "    rated_user = set(ratings.loc[ratings.movieId == movieId, 'userId'])\n",
    "    return all_users.difference(rated_user)"
   ]
  },
  {
   "cell_type": "code",
   "execution_count": 26,
   "metadata": {},
   "outputs": [],
   "source": [
    "def get_top_n_user_ranked_list(movieId, n, k, measure: str):\n",
    "    users_list = get_not_rated_list(movieId)\n",
    "    return sorted([(u, get_recomendation(movieId, u, k, measure)) for u in users_list], key=lambda x: x[1], reverse=True)[0:k]"
   ]
  },
  {
   "cell_type": "code",
   "execution_count": 32,
   "metadata": {},
   "outputs": [
    {
     "data": {
      "text/plain": [
       "[(53, 5.000000000000001),\n",
       " (251, 5.000000000000001),\n",
       " (171, 4.899611694737756),\n",
       " (25, 4.7719460645650855),\n",
       " (43, 4.61138875586321),\n",
       " (30, 4.592243941235577),\n",
       " (236, 4.572988660869799),\n",
       " (250, 4.5603809583556805),\n",
       " (319, 4.546743844902207),\n",
       " (128, 4.516837398462648)]"
      ]
     },
     "execution_count": 32,
     "metadata": {},
     "output_type": "execute_result"
    }
   ],
   "source": [
    "ranked = get_top_n_user_ranked_list(50, 10, 10, 'pearson')\n",
    "ranked"
   ]
  },
  {
   "cell_type": "code",
   "execution_count": 34,
   "metadata": {},
   "outputs": [
    {
     "name": "stdout",
     "output_type": "stream",
     "text": [
      "Các UserID được dự đoán sẽ đánh giá cao cho MovieID = 50:\n",
      "53\n",
      "251\n",
      "171\n",
      "25\n",
      "43\n",
      "30\n",
      "236\n",
      "250\n",
      "319\n",
      "128\n"
     ]
    }
   ],
   "source": [
    "print('Các UserID được dự đoán sẽ đánh giá cao cho MovieID = 50:')\n",
    "for i,j in ranked:\n",
    "    print(i)"
   ]
  }
 ],
 "metadata": {
  "kernelspec": {
   "display_name": "Python 3.10.5 64-bit",
   "language": "python",
   "name": "python3"
  },
  "language_info": {
   "codemirror_mode": {
    "name": "ipython",
    "version": 3
   },
   "file_extension": ".py",
   "mimetype": "text/x-python",
   "name": "python",
   "nbconvert_exporter": "python",
   "pygments_lexer": "ipython3",
   "version": "3.10.5"
  },
  "orig_nbformat": 4,
  "vscode": {
   "interpreter": {
    "hash": "3e43744e3b76db76f00dd0f0ed56f0dc3589e390f52dff4d27386062904acf7d"
   }
  }
 },
 "nbformat": 4,
 "nbformat_minor": 2
}
